{
 "cells": [
  {
   "cell_type": "markdown",
   "metadata": {},
   "source": [
    "<center>\n",
    "    <img src=\"https://cf-courses-data.s3.us.cloud-object-storage.appdomain.cloud/IBMDeveloperSkillsNetwork-DS0105EN-SkillsNetwork/labs/Module2/images/SN_web_lightmode.png\" width=\"300\" alt=\"cognitiveclass.ai logo\">\n",
    "</center>\n"
   ]
  },
  {
   "cell_type": "markdown",
   "metadata": {},
   "source": [
    "# Data Science Tools and Ecosystem"
   ]
  },
  {
   "cell_type": "markdown",
   "metadata": {},
   "source": [
    "In this notebook, data science tool and ecosystem are summarized."
   ]
  },
  {
   "cell_type": "markdown",
   "metadata": {},
   "source": [
    "**Objectives**: \n",
    "1.List popular languages for Data Science\n",
    "2. libraries used by data scientists\n",
    "3.Code"
   ]
  },
  {
   "cell_type": "markdown",
   "metadata": {},
   "source": [
    "Some of the popular languages the data scientists use are:\n",
    "\n",
    "As of my last update in September 2021, some of the popular programming languages used by data scientists are:\n",
    "\n",
    "1. Python: Python is one of the most popular languages for data science due to its extensive libraries and frameworks like NumPy, Pandas, Matplotlib, Seaborn, and Scikit-learn. It offers simplicity, readability, and versatility, making it a top choice for data analysis and machine learning tasks.\n",
    "\n",
    "2. R: R is another widely-used language in data science and statistics. It has a robust ecosystem of packages like ggplot2, dplyr, and tidyr that are specifically designed for data manipulation and visualization. R is favored by many researchers and statisticians for its statistical capabilities.\n",
    "\n",
    "3. SQL: Structured Query Language (SQL) is essential for working with relational databases. Data scientists often use SQL to perform data retrieval, aggregation, and transformation tasks, especially when dealing with large datasets stored in databases.\n",
    "\n"
   ]
  },
  {
   "cell_type": "markdown",
   "metadata": {},
   "source": [
    "some of commonly used libraries used by data scientists are:\n",
    "Numpy, Pandas, Matplotlib"
   ]
  },
  {
   "cell_type": "markdown",
   "metadata": {},
   "source": [
    "|data science tool|\n",
    "|---|\n",
    "|Rstudio|\n",
    "|Jupiter|\n",
    "|Anaconda|"
   ]
  },
  {
   "cell_type": "markdown",
   "metadata": {},
   "source": [
    "### Below are a few examples of evaluating arithmetic expressions in Python"
   ]
  },
  {
   "cell_type": "code",
   "execution_count": 20,
   "metadata": {
    "tags": []
   },
   "outputs": [
    {
     "name": "stdout",
     "output_type": "stream",
     "text": [
      "17\n"
     ]
    }
   ],
   "source": [
    "#this a simple arithmetic expression to mutiply then add integers\n",
    "\n",
    "x = (3*4)+5\n",
    "print(x)"
   ]
  },
  {
   "cell_type": "code",
   "execution_count": 22,
   "metadata": {
    "tags": []
   },
   "outputs": [
    {
     "name": "stdout",
     "output_type": "stream",
     "text": [
      "3.3333333333333335\n"
     ]
    }
   ],
   "source": [
    "#This will convert 200 minutes to hours by diving by 60\n",
    "x= 200\n",
    "y = x/60\n",
    "print(y)"
   ]
  },
  {
   "cell_type": "markdown",
   "metadata": {},
   "source": [
    "## Author: Like Su"
   ]
  },
  {
   "cell_type": "code",
   "execution_count": null,
   "metadata": {},
   "outputs": [],
   "source": []
  }
 ],
 "metadata": {
  "kernelspec": {
   "display_name": "Python",
   "language": "python",
   "name": "conda-env-python-py"
  },
  "language_info": {
   "codemirror_mode": {
    "name": "ipython",
    "version": 3
   },
   "file_extension": ".py",
   "mimetype": "text/x-python",
   "name": "python",
   "nbconvert_exporter": "python",
   "pygments_lexer": "ipython3",
   "version": "3.7.12"
  }
 },
 "nbformat": 4,
 "nbformat_minor": 4
}
